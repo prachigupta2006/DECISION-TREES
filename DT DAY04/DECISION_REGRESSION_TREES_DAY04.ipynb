{
  "cells": [
    {
      "cell_type": "code",
      "execution_count": null,
      "metadata": {
        "id": "tKhsf5ENRQ0l"
      },
      "outputs": [],
      "source": [
        "import numpy as np\n",
        "import pandas as pd\n",
        "import matplotlib.pyplot as plt\n",
        "import seaborn as sns\n",
        "\n",
        "import scipy.stats as stats\n",
        "\n",
        "from sklearn.model_selection import train_test_split\n",
        "from sklearn.metrics import accuracy_score\n",
        "from sklearn.model_selection import cross_val_score\n",
        "\n",
        "from sklearn.preprocessing import KBinsDiscretizer\n",
        "from sklearn.linear_model import LogisticRegression\n",
        "from sklearn.tree import DecisionTreeClassifier\n",
        "\n",
        "from sklearn.preprocessing import FunctionTransformer\n",
        "from sklearn.compose import ColumnTransformer\n",
        "from sklearn.metrics import r2_score\n",
        "from sklearn.datasets import load_diabetes\n",
        "from sklearn.linear_model import Lasso\n",
        "from sklearn.datasets import make_classification\n",
        "from sklearn.model_selection import GridSearchCV\n",
        "from sklearn.datasets import load_boston"
      ]
    },
    {
      "cell_type": "code",
      "source": [
        "boston = load_boston()\n",
        "df=pd.DataFrame(boston.data)"
      ],
      "metadata": {
        "id": "Tn0W_0X53m_o"
      },
      "execution_count": null,
      "outputs": []
    },
    {
      "cell_type": "code",
      "source": [
        "df.columns = boston.feature_names\n",
        "df['MEDV'] = boston.target"
      ],
      "metadata": {
        "id": "dzWbstua4D_9"
      },
      "execution_count": null,
      "outputs": []
    },
    {
      "cell_type": "code",
      "source": [
        "df.head()"
      ],
      "metadata": {
        "id": "GmhaE1KL4F1r"
      },
      "execution_count": null,
      "outputs": []
    },
    {
      "cell_type": "code",
      "execution_count": null,
      "metadata": {
        "id": "y-jsc69IC4Eq"
      },
      "outputs": [],
      "source": [
        "x=df.iloc[:,0:13]\n",
        "x=df.iloc[:,13]"
      ]
    },
    {
      "cell_type": "markdown",
      "source": [
        "\n",
        "### **TRAIN TEST SPLIT**"
      ],
      "metadata": {
        "id": "W5h5rHuP4NTg"
      }
    },
    {
      "cell_type": "code",
      "source": [
        "rt = DecisionTreeRegressor(criterion='mse',max_depth=5)\n",
        "\n",
        "rt.fit(x_train,y_train)\n",
        "\n",
        "r2_score(y_test,y_pred)"
      ],
      "metadata": {
        "id": "LyR8MmbH4XlS"
      },
      "execution_count": null,
      "outputs": []
    },
    {
      "cell_type": "markdown",
      "source": [
        "### **HYPERPARAMETER TUNING**"
      ],
      "metadata": {
        "id": "uDFKJaNa4bhE"
      }
    },
    {
      "cell_type": "code",
      "source": [
        "params_grid = {\n",
        "\n",
        "     'max_depth':{2,4,8,10,None},\n",
        "     'criterion':{'mse','mae'},\n",
        "     'max_features':{0.25,0.5,1.0}\n",
        "}\n",
        "\n",
        "reg = GridSearchCV(DecisionTreeRegressor(),param_grid=param_grid)"
      ],
      "metadata": {
        "id": "fehn3nlc4fU_"
      },
      "execution_count": null,
      "outputs": []
    },
    {
      "cell_type": "code",
      "source": [
        "reg.fit(x_train,y_train)\n",
        "\n",
        "reg.best_score_\n",
        "\n",
        "reg.best_parms_"
      ],
      "metadata": {
        "id": "fsWgO-Zv4hbY"
      },
      "execution_count": null,
      "outputs": []
    },
    {
      "cell_type": "markdown",
      "source": [
        "### **FEATURE IMPORANCE**"
      ],
      "metadata": {
        "id": "yHJcMQJz4wJO"
      }
    },
    {
      "cell_type": "markdown",
      "source": [
        "(helps in cases of analysing which feature is the most important giving us an idea as to how much a feature is important and in festure selection also)"
      ],
      "metadata": {
        "id": "dz4HOUCm4kS_"
      }
    },
    {
      "cell_type": "code",
      "source": [
        "for importance,name in sorted(rt.feature_importances_,x_train.columns),reverse=True):\n",
        "  print(name,importance)"
      ],
      "metadata": {
        "id": "MEb4MXbw4ovC"
      },
      "execution_count": null,
      "outputs": []
    },
    {
      "cell_type": "code",
      "source": [],
      "metadata": {
        "id": "bGFPUblk4rQ8"
      },
      "execution_count": null,
      "outputs": []
    }
  ],
  "metadata": {
    "colab": {
      "provenance": []
    },
    "kernelspec": {
      "display_name": "Python 3",
      "name": "python3"
    },
    "language_info": {
      "name": "python"
    }
  },
  "nbformat": 4,
  "nbformat_minor": 0
}